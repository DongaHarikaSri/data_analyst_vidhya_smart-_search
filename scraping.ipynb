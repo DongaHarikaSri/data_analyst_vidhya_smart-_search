{
 "cells": [
  {
   "cell_type": "code",
   "execution_count": null,
   "id": "0f42ff3a-6296-41da-a3da-ce9e1566b4e0",
   "metadata": {},
   "outputs": [],
   "source": [
    "import pandas as pd\n",
    "\n",
    "# Load the existing CSV\n",
    "output_file = 'output/analytics_vidhya_courses_with_ratings.csv'\n",
    "courses_df = pd.read_csv(output_file)\n",
    "\n",
    "# Fill empty levels with 'Beginner'\n",
    "courses_df['Level'].fillna('Beginner', inplace=True)\n",
    "\n",
    "# Fill empty durations with 'NA'\n",
    "courses_df['Duration'].fillna('NA', inplace=True)\n",
    "\n",
    "# Fill empty descriptions with the respective course title\n",
    "courses_df['Description'].fillna(courses_df['course_titles'], inplace=True)\n",
    "\n",
    "# Fill empty ratings with 'NA'\n",
    "courses_df['Rating'].fillna('NA', inplace=True)\n",
    "\n",
    "# Save the updated DataFrame back to the CSV file\n",
    "courses_df.to_csv(output_file, index=False)\n",
    "\n",
    "print(\"Missing values have been filled and CSV updated!\")"
   ]
  }
 ],
 "metadata": {
  "kernelspec": {
   "display_name": "Python 3 (ipykernel)",
   "language": "python",
   "name": "python3"
  },
  "language_info": {
   "codemirror_mode": {
    "name": "ipython",
    "version": 3
   },
   "file_extension": ".py",
   "mimetype": "text/x-python",
   "name": "python",
   "nbconvert_exporter": "python",
   "pygments_lexer": "ipython3",
   "version": "3.11.5"
  }
 },
 "nbformat": 4,
 "nbformat_minor": 5
}
